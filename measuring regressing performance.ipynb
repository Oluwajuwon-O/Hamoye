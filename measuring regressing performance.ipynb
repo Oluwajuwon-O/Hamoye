{
 "cells": [
  {
   "cell_type": "code",
   "execution_count": 7,
   "id": "a1475c79-c123-4f20-bcb9-e8bfd9035dd2",
   "metadata": {},
   "outputs": [],
   "source": [
    "import numpy as np\n",
    "import pandas as pd\n",
    "import matplotlib.pyplot as plt\n",
    "import seaborn as sns"
   ]
  },
  {
   "cell_type": "code",
   "execution_count": 8,
   "id": "31e455b3-0de2-447e-a9a8-57e096b410c4",
   "metadata": {},
   "outputs": [],
   "source": [
    "df = pd.read_excel(\"ENB2012_data.xlsx\")\n",
    "column_names = {'X1':\"Relative_Compactness\",\n",
    "               'X2': \"Surface_Area\",\n",
    "               'X3': \"Wall_Area\",\n",
    "               'X4': \"Roof_Area\",\n",
    "               'X5': 'Overall_Height',\n",
    "               'X6': \"Orientation\",\n",
    "               'X7': 'Glazing_Area',\n",
    "               'X8': 'Glazing_Area_Distribution',\n",
    "               'Y1': 'Heating_Load',\n",
    "               'Y2': 'Cooling_Load'}\n",
    "df = df.rename(columns = column_names)"
   ]
  },
  {
   "cell_type": "code",
   "execution_count": 9,
   "id": "da5e8f12-abcb-4da5-8da5-9004bf77cf2c",
   "metadata": {
    "collapsed": true,
    "jupyter": {
     "outputs_hidden": true
    },
    "tags": []
   },
   "outputs": [
    {
     "data": {
      "text/html": [
       "<div>\n",
       "<style scoped>\n",
       "    .dataframe tbody tr th:only-of-type {\n",
       "        vertical-align: middle;\n",
       "    }\n",
       "\n",
       "    .dataframe tbody tr th {\n",
       "        vertical-align: top;\n",
       "    }\n",
       "\n",
       "    .dataframe thead th {\n",
       "        text-align: right;\n",
       "    }\n",
       "</style>\n",
       "<table border=\"1\" class=\"dataframe\">\n",
       "  <thead>\n",
       "    <tr style=\"text-align: right;\">\n",
       "      <th></th>\n",
       "      <th>Relative_Compactness</th>\n",
       "      <th>Surface_Area</th>\n",
       "      <th>Wall_Area</th>\n",
       "      <th>Roof_Area</th>\n",
       "      <th>Overall_Height</th>\n",
       "      <th>Orientation</th>\n",
       "      <th>Glazing_Area</th>\n",
       "      <th>Glazing_Area_Distribution</th>\n",
       "      <th>Heating_Load</th>\n",
       "      <th>Cooling_Load</th>\n",
       "    </tr>\n",
       "  </thead>\n",
       "  <tbody>\n",
       "    <tr>\n",
       "      <th>Relative_Compactness</th>\n",
       "      <td>1.00</td>\n",
       "      <td>-0.99</td>\n",
       "      <td>-0.20</td>\n",
       "      <td>-0.87</td>\n",
       "      <td>0.83</td>\n",
       "      <td>0.00</td>\n",
       "      <td>-0.00</td>\n",
       "      <td>-0.00</td>\n",
       "      <td>0.62</td>\n",
       "      <td>0.63</td>\n",
       "    </tr>\n",
       "    <tr>\n",
       "      <th>Surface_Area</th>\n",
       "      <td>-0.99</td>\n",
       "      <td>1.00</td>\n",
       "      <td>0.20</td>\n",
       "      <td>0.88</td>\n",
       "      <td>-0.86</td>\n",
       "      <td>-0.00</td>\n",
       "      <td>0.00</td>\n",
       "      <td>0.00</td>\n",
       "      <td>-0.66</td>\n",
       "      <td>-0.67</td>\n",
       "    </tr>\n",
       "    <tr>\n",
       "      <th>Wall_Area</th>\n",
       "      <td>-0.20</td>\n",
       "      <td>0.20</td>\n",
       "      <td>1.00</td>\n",
       "      <td>-0.29</td>\n",
       "      <td>0.28</td>\n",
       "      <td>-0.00</td>\n",
       "      <td>-0.00</td>\n",
       "      <td>0.00</td>\n",
       "      <td>0.46</td>\n",
       "      <td>0.43</td>\n",
       "    </tr>\n",
       "    <tr>\n",
       "      <th>Roof_Area</th>\n",
       "      <td>-0.87</td>\n",
       "      <td>0.88</td>\n",
       "      <td>-0.29</td>\n",
       "      <td>1.00</td>\n",
       "      <td>-0.97</td>\n",
       "      <td>-0.00</td>\n",
       "      <td>-0.00</td>\n",
       "      <td>-0.00</td>\n",
       "      <td>-0.86</td>\n",
       "      <td>-0.86</td>\n",
       "    </tr>\n",
       "    <tr>\n",
       "      <th>Overall_Height</th>\n",
       "      <td>0.83</td>\n",
       "      <td>-0.86</td>\n",
       "      <td>0.28</td>\n",
       "      <td>-0.97</td>\n",
       "      <td>1.00</td>\n",
       "      <td>0.00</td>\n",
       "      <td>0.00</td>\n",
       "      <td>-0.00</td>\n",
       "      <td>0.89</td>\n",
       "      <td>0.90</td>\n",
       "    </tr>\n",
       "    <tr>\n",
       "      <th>Orientation</th>\n",
       "      <td>0.00</td>\n",
       "      <td>-0.00</td>\n",
       "      <td>-0.00</td>\n",
       "      <td>-0.00</td>\n",
       "      <td>0.00</td>\n",
       "      <td>1.00</td>\n",
       "      <td>-0.00</td>\n",
       "      <td>-0.00</td>\n",
       "      <td>-0.00</td>\n",
       "      <td>0.01</td>\n",
       "    </tr>\n",
       "    <tr>\n",
       "      <th>Glazing_Area</th>\n",
       "      <td>-0.00</td>\n",
       "      <td>0.00</td>\n",
       "      <td>-0.00</td>\n",
       "      <td>-0.00</td>\n",
       "      <td>0.00</td>\n",
       "      <td>-0.00</td>\n",
       "      <td>1.00</td>\n",
       "      <td>0.21</td>\n",
       "      <td>0.27</td>\n",
       "      <td>0.21</td>\n",
       "    </tr>\n",
       "    <tr>\n",
       "      <th>Glazing_Area_Distribution</th>\n",
       "      <td>-0.00</td>\n",
       "      <td>0.00</td>\n",
       "      <td>0.00</td>\n",
       "      <td>-0.00</td>\n",
       "      <td>-0.00</td>\n",
       "      <td>-0.00</td>\n",
       "      <td>0.21</td>\n",
       "      <td>1.00</td>\n",
       "      <td>0.09</td>\n",
       "      <td>0.05</td>\n",
       "    </tr>\n",
       "    <tr>\n",
       "      <th>Heating_Load</th>\n",
       "      <td>0.62</td>\n",
       "      <td>-0.66</td>\n",
       "      <td>0.46</td>\n",
       "      <td>-0.86</td>\n",
       "      <td>0.89</td>\n",
       "      <td>-0.00</td>\n",
       "      <td>0.27</td>\n",
       "      <td>0.09</td>\n",
       "      <td>1.00</td>\n",
       "      <td>0.98</td>\n",
       "    </tr>\n",
       "    <tr>\n",
       "      <th>Cooling_Load</th>\n",
       "      <td>0.63</td>\n",
       "      <td>-0.67</td>\n",
       "      <td>0.43</td>\n",
       "      <td>-0.86</td>\n",
       "      <td>0.90</td>\n",
       "      <td>0.01</td>\n",
       "      <td>0.21</td>\n",
       "      <td>0.05</td>\n",
       "      <td>0.98</td>\n",
       "      <td>1.00</td>\n",
       "    </tr>\n",
       "  </tbody>\n",
       "</table>\n",
       "</div>"
      ],
      "text/plain": [
       "                           Relative_Compactness  Surface_Area  Wall_Area  \\\n",
       "Relative_Compactness                       1.00         -0.99      -0.20   \n",
       "Surface_Area                              -0.99          1.00       0.20   \n",
       "Wall_Area                                 -0.20          0.20       1.00   \n",
       "Roof_Area                                 -0.87          0.88      -0.29   \n",
       "Overall_Height                             0.83         -0.86       0.28   \n",
       "Orientation                                0.00         -0.00      -0.00   \n",
       "Glazing_Area                              -0.00          0.00      -0.00   \n",
       "Glazing_Area_Distribution                 -0.00          0.00       0.00   \n",
       "Heating_Load                               0.62         -0.66       0.46   \n",
       "Cooling_Load                               0.63         -0.67       0.43   \n",
       "\n",
       "                           Roof_Area  Overall_Height  Orientation  \\\n",
       "Relative_Compactness           -0.87            0.83         0.00   \n",
       "Surface_Area                    0.88           -0.86        -0.00   \n",
       "Wall_Area                      -0.29            0.28        -0.00   \n",
       "Roof_Area                       1.00           -0.97        -0.00   \n",
       "Overall_Height                 -0.97            1.00         0.00   \n",
       "Orientation                    -0.00            0.00         1.00   \n",
       "Glazing_Area                   -0.00            0.00        -0.00   \n",
       "Glazing_Area_Distribution      -0.00           -0.00        -0.00   \n",
       "Heating_Load                   -0.86            0.89        -0.00   \n",
       "Cooling_Load                   -0.86            0.90         0.01   \n",
       "\n",
       "                           Glazing_Area  Glazing_Area_Distribution  \\\n",
       "Relative_Compactness              -0.00                      -0.00   \n",
       "Surface_Area                       0.00                       0.00   \n",
       "Wall_Area                         -0.00                       0.00   \n",
       "Roof_Area                         -0.00                      -0.00   \n",
       "Overall_Height                     0.00                      -0.00   \n",
       "Orientation                       -0.00                      -0.00   \n",
       "Glazing_Area                       1.00                       0.21   \n",
       "Glazing_Area_Distribution          0.21                       1.00   \n",
       "Heating_Load                       0.27                       0.09   \n",
       "Cooling_Load                       0.21                       0.05   \n",
       "\n",
       "                           Heating_Load  Cooling_Load  \n",
       "Relative_Compactness               0.62          0.63  \n",
       "Surface_Area                      -0.66         -0.67  \n",
       "Wall_Area                          0.46          0.43  \n",
       "Roof_Area                         -0.86         -0.86  \n",
       "Overall_Height                     0.89          0.90  \n",
       "Orientation                       -0.00          0.01  \n",
       "Glazing_Area                       0.27          0.21  \n",
       "Glazing_Area_Distribution          0.09          0.05  \n",
       "Heating_Load                       1.00          0.98  \n",
       "Cooling_Load                       0.98          1.00  "
      ]
     },
     "execution_count": 9,
     "metadata": {},
     "output_type": "execute_result"
    }
   ],
   "source": [
    "df.corr().round(decimals = 2)\n",
    "# .round(deciamls  = no. of d.p. to round the numbers)"
   ]
  },
  {
   "cell_type": "markdown",
   "id": "bc5a1513-0851-4406-aa5e-b7acc0cfecd7",
   "metadata": {
    "tags": []
   },
   "source": [
    "## Steps to Measure regression performance\n",
    "1. Features Scaling/Scale the data\n",
    "    Feature Scaling or Standardization: It is a step of Data Pre Processing which is applied to independent variables or features of data. \n",
    "    It basically helps to normalise the data within a particular range. Sometimes, it also helps in speeding up the calculations in an algorithm.\n",
    "2. Split the dataset into independent and dependent columns\n",
    "3. Split dataset into training and testing datasets\n",
    "4. Import desired model and and fit dataset into model\n",
    "4. Measure performance of model\n",
    "\n",
    "## Methods used in measuring performance of model\n",
    "1. Mean Absolute error\n",
    "2. Residual Sum of Squares\n",
    "2. Root mean square error\n",
    "4. R-squared statistic"
   ]
  },
  {
   "cell_type": "code",
   "execution_count": 15,
   "id": "9024a7b9-7313-4ca7-b7b2-72850938c898",
   "metadata": {
    "collapsed": true,
    "jupyter": {
     "outputs_hidden": true
    },
    "tags": []
   },
   "outputs": [
    {
     "name": "stdout",
     "output_type": "stream",
     "text": [
      "normalised/scaled df\n",
      "     Relative_Compactness  Surface_Area  Wall_Area  Roof_Area  Overall_Height  \\\n",
      "0                1.000000      0.000000   0.285714   0.000000             1.0   \n",
      "1                1.000000      0.000000   0.285714   0.000000             1.0   \n",
      "2                1.000000      0.000000   0.285714   0.000000             1.0   \n",
      "3                1.000000      0.000000   0.285714   0.000000             1.0   \n",
      "4                0.777778      0.166667   0.428571   0.111111             1.0   \n",
      "..                    ...           ...        ...        ...             ...   \n",
      "763              0.055556      0.916667   0.571429   1.000000             0.0   \n",
      "764              0.000000      1.000000   0.714286   1.000000             0.0   \n",
      "765              0.000000      1.000000   0.714286   1.000000             0.0   \n",
      "766              0.000000      1.000000   0.714286   1.000000             0.0   \n",
      "767              0.000000      1.000000   0.714286   1.000000             0.0   \n",
      "\n",
      "     Orientation  Glazing_Area  Glazing_Area_Distribution  Heating_Load  \\\n",
      "0       0.000000           0.0                        0.0      0.257212   \n",
      "1       0.333333           0.0                        0.0      0.257212   \n",
      "2       0.666667           0.0                        0.0      0.257212   \n",
      "3       1.000000           0.0                        0.0      0.257212   \n",
      "4       0.000000           0.0                        0.0      0.399838   \n",
      "..           ...           ...                        ...           ...   \n",
      "763     1.000000           1.0                        1.0      0.320032   \n",
      "764     0.000000           1.0                        1.0      0.283904   \n",
      "765     0.333333           1.0                        1.0      0.281208   \n",
      "766     0.666667           1.0                        1.0      0.282286   \n",
      "767     1.000000           1.0                        1.0      0.286600   \n",
      "\n",
      "     Cooling_Load  \n",
      "0        0.280905  \n",
      "1        0.280905  \n",
      "2        0.280905  \n",
      "3        0.280905  \n",
      "4        0.468085  \n",
      "..            ...  \n",
      "763      0.282790  \n",
      "764      0.161056  \n",
      "765      0.167250  \n",
      "766      0.153784  \n",
      "767      0.138163  \n",
      "\n",
      "[768 rows x 10 columns]\n",
      "independent/features df\n",
      "     Relative_Compactness  Surface_Area  Wall_Area  Roof_Area  Overall_Height  \\\n",
      "0                1.000000      0.000000   0.285714   0.000000             1.0   \n",
      "1                1.000000      0.000000   0.285714   0.000000             1.0   \n",
      "2                1.000000      0.000000   0.285714   0.000000             1.0   \n",
      "3                1.000000      0.000000   0.285714   0.000000             1.0   \n",
      "4                0.777778      0.166667   0.428571   0.111111             1.0   \n",
      "..                    ...           ...        ...        ...             ...   \n",
      "763              0.055556      0.916667   0.571429   1.000000             0.0   \n",
      "764              0.000000      1.000000   0.714286   1.000000             0.0   \n",
      "765              0.000000      1.000000   0.714286   1.000000             0.0   \n",
      "766              0.000000      1.000000   0.714286   1.000000             0.0   \n",
      "767              0.000000      1.000000   0.714286   1.000000             0.0   \n",
      "\n",
      "     Orientation  Glazing_Area  Glazing_Area_Distribution  \n",
      "0       0.000000           0.0                        0.0  \n",
      "1       0.333333           0.0                        0.0  \n",
      "2       0.666667           0.0                        0.0  \n",
      "3       1.000000           0.0                        0.0  \n",
      "4       0.000000           0.0                        0.0  \n",
      "..           ...           ...                        ...  \n",
      "763     1.000000           1.0                        1.0  \n",
      "764     0.000000           1.0                        1.0  \n",
      "765     0.333333           1.0                        1.0  \n",
      "766     0.666667           1.0                        1.0  \n",
      "767     1.000000           1.0                        1.0  \n",
      "\n",
      "[768 rows x 8 columns]\n",
      "response df which is = heating_target = Heating_Load\n",
      "0      0.257212\n",
      "1      0.257212\n",
      "2      0.257212\n",
      "3      0.257212\n",
      "4      0.399838\n",
      "         ...   \n",
      "763    0.320032\n",
      "764    0.283904\n",
      "765    0.281208\n",
      "766    0.282286\n",
      "767    0.286600\n",
      "Name: Heating_Load, Length: 768, dtype: float64\n"
     ]
    }
   ],
   "source": [
    "\n",
    "# Feature Scaling\n",
    "from sklearn.preprocessing import MinMaxScaler\n",
    "scaler = MinMaxScaler()\n",
    "#   Feature Scaling or Standardization: It is a step of Data Pre Processing which is applied to independent variables or features of data. \n",
    "#   It basically helps to normalise the data within a particular range. Sometimes, it also helps in speeding up the calculations in an algorithm.\n",
    "\n",
    "normalised_df = pd.DataFrame(scaler.fit_transform(df), columns = df.columns)\n",
    "print('normalised/scaled df')\n",
    "print(normalised_df)\n",
    "\n",
    "## Spiliting\n",
    "      \n",
    "# drop the dependent columns, since we are dealing with only the independent  variables\n",
    "features_df = normalised_df.drop(columns = ['Heating_Load', 'Cooling_Load'])\n",
    "print('independent/features df')\n",
    "print(features_df)\n",
    "\n",
    "# select the response column\n",
    "heating_target = normalised_df['Heating_Load']\n",
    "print('response df which is = heating_target = Heating_Load')\n",
    "print(heating_target)"
   ]
  },
  {
   "cell_type": "code",
   "execution_count": 16,
   "id": "f61bdffb-3e43-4764-8896-1fde7d5eddfe",
   "metadata": {},
   "outputs": [],
   "source": [
    "# splitting into test and train sets\n",
    "\n",
    "from sklearn.model_selection import train_test_split\n",
    "x_train, x_test, y_train, y_test = train_test_split(features_df,\n",
    "                                                   heating_target,\n",
    "                                                   test_size = 0.3,\n",
    "                                                   random_state = 1)"
   ]
  },
  {
   "cell_type": "code",
   "execution_count": 24,
   "id": "8719b70b-b1a9-4fd3-b703-3952f5c4e083",
   "metadata": {
    "collapsed": true,
    "jupyter": {
     "outputs_hidden": true
    },
    "tags": []
   },
   "outputs": [
    {
     "data": {
      "text/plain": [
       "array([0.18432617, 0.58435059, 0.74633789, 0.71484375, 0.7644043 ,\n",
       "       0.24377441, 0.16345215, 0.6126709 , 0.24499512, 0.54943848,\n",
       "       0.31628418, 0.66540527, 0.69567871, 0.30065918, 0.1862793 ,\n",
       "       0.71716309, 0.57067871, 0.31286621, 0.25476074, 0.74279785,\n",
       "       0.70141602, 0.07055664, 0.61047363, 0.32128906, 0.21447754,\n",
       "       0.75134277, 0.32836914, 0.17944336, 0.80151367, 0.26953125,\n",
       "       0.68786621, 0.74060059, 0.13867188, 0.28283691, 0.56591797,\n",
       "       0.8079834 , 0.33044434, 0.13208008, 0.72290039, 0.24658203,\n",
       "       0.81970215, 0.1550293 , 0.10327148, 0.15930176, 0.11437988,\n",
       "       0.14709473, 0.48742676, 0.69152832, 0.75939941, 0.72058105,\n",
       "       0.09790039, 0.67114258, 0.09680176, 0.24328613, 0.76599121,\n",
       "       0.77087402, 0.7421875 , 0.63049316, 0.15234375, 0.2956543 ,\n",
       "       0.18518066, 0.59667969, 0.60473633, 0.76672363, 0.56835938,\n",
       "       0.92285156, 0.6842041 , 0.3170166 , 0.67614746, 0.23535156,\n",
       "       0.54711914, 0.24401855, 0.23327637, 0.72631836, 0.28369141,\n",
       "       0.67895508, 0.64123535, 0.73706055, 0.24902344, 0.53894043,\n",
       "       0.13134766, 0.64697266, 0.25915527, 0.75939941, 0.23901367,\n",
       "       0.89904785, 0.91625977, 0.82470703, 0.25317383, 0.17822266,\n",
       "       0.63964844, 0.52099609, 0.14355469, 0.75366211, 0.26721191,\n",
       "       0.67687988, 0.1394043 , 0.68505859, 0.05749512, 0.78234863,\n",
       "       0.76086426, 0.27868652, 0.61621094, 0.15808105, 0.26696777,\n",
       "       0.18359375, 0.59741211, 0.58935547, 0.62194824, 0.83459473,\n",
       "       0.91137695, 0.46203613, 0.56506348, 0.14660645, 0.84191895,\n",
       "       0.10595703, 0.62878418, 0.70593262, 0.71069336, 0.28442383,\n",
       "       0.55285645, 0.60852051, 0.26293945, 0.54785156, 0.71142578,\n",
       "       0.27709961, 0.07543945, 0.77172852, 0.10253906, 0.25024414,\n",
       "       0.79162598, 0.12084961, 0.71142578, 0.80224609, 0.03979492,\n",
       "       0.6829834 , 0.53820801, 0.08654785, 0.72631836, 0.21374512,\n",
       "       0.30554199, 0.60241699, 0.34631348, 0.23388672, 0.4597168 ,\n",
       "       0.62976074, 0.05334473, 0.81896973, 0.62963867, 0.26147461,\n",
       "       0.16564941, 0.56018066, 0.77587891, 0.80383301, 0.30712891,\n",
       "       0.32470703, 0.64025879, 0.18774414, 0.70983887, 0.23962402,\n",
       "       0.53771973, 0.62341309, 0.72790527, 0.25305176, 0.72290039,\n",
       "       0.16064453, 0.7286377 , 0.63537598, 0.33569336, 0.33483887,\n",
       "       0.15771484, 0.82885742, 0.71643066, 0.22888184, 0.13708496,\n",
       "       0.70019531, 0.14428711, 0.72705078, 0.73205566, 0.22729492,\n",
       "       0.75866699, 0.08581543, 0.62573242, 0.6015625 , 0.73632812,\n",
       "       0.08300781, 0.14282227, 0.60314941, 0.17285156, 0.15356445,\n",
       "       0.23693848, 0.7520752 , 0.74365234, 0.61462402, 0.15734863,\n",
       "       0.71716309, 0.0390625 , 0.6517334 , 0.06896973, 0.90563965,\n",
       "       0.33117676, 0.63952637, 0.32629395, 0.21813965, 0.53857422,\n",
       "       0.29907227, 0.74438477, 0.09875488, 0.21887207, 0.22045898,\n",
       "       0.71557617, 0.55517578, 0.5690918 , 0.18054199, 0.09448242,\n",
       "       0.72216797, 0.17138672, 0.5859375 , 0.22546387, 0.6784668 ,\n",
       "       0.68920898, 0.23168945, 0.61767578, 0.10168457, 0.54394531,\n",
       "       0.77661133, 0.54309082, 0.90637207, 0.22680664, 0.48974609,\n",
       "       0.75512695])"
      ]
     },
     "execution_count": 24,
     "metadata": {},
     "output_type": "execute_result"
    }
   ],
   "source": [
    "# import linear regression model and fit into it\n",
    "\n",
    "from sklearn.linear_model import LinearRegression\n",
    "linear_model = LinearRegression()\n",
    "\n",
    "linear_model.fit(x_train, y_train)\n",
    "\n",
    "#obtain prediction values\n",
    "predicted_values = linear_model.predict(x_test)\n",
    "predicted_values"
   ]
  },
  {
   "cell_type": "code",
   "execution_count": 37,
   "id": "1fc571e8-c9fc-4dfc-969d-d004986d2814",
   "metadata": {
    "tags": []
   },
   "outputs": [
    {
     "name": "stdout",
     "output_type": "stream",
     "text": [
      "0.06275563329660785\n",
      "0.063\n",
      "0.0628\n"
     ]
    }
   ],
   "source": [
    "# measure mean_absolute_error \n",
    "\n",
    "from sklearn.metrics import mean_absolute_error\n",
    "mae = mean_absolute_error(y_test, predicted_values)\n",
    "\n",
    "print(mae)\n",
    "print(round(mae,3))\n",
    "print(mae.round(decimals = 4))\n"
   ]
  },
  {
   "cell_type": "markdown",
   "id": "e5d0cb34-8d86-49fa-b537-dee482aa4d8a",
   "metadata": {},
   "source": [
    "## Residual Sum of Squares\n",
    "- It explains variance of data i.e. how well the model approximates the data\n",
    "- The lower the RSS, the better the model approximates the data and vice versa"
   ]
  },
  {
   "cell_type": "code",
   "execution_count": 39,
   "id": "9c191a94-4a50-4a7b-80d5-23ab54bb3296",
   "metadata": {
    "collapsed": true,
    "jupyter": {
     "outputs_hidden": true
    },
    "tags": []
   },
   "outputs": [
    {
     "data": {
      "text/plain": [
       "1.832"
      ]
     },
     "execution_count": 39,
     "metadata": {},
     "output_type": "execute_result"
    }
   ],
   "source": [
    "# Residual Some of squares (RSS)\n",
    "#RSS = sum of the square of (original sample - predicted sample)\n",
    "\n",
    "rss = np.sum(np.square(y_test - predicted_values))\n",
    "rss.round(decimals = 3)"
   ]
  },
  {
   "cell_type": "markdown",
   "id": "fbe17cfd-92fc-412e-81ff-df37a8fbc50d",
   "metadata": {},
   "source": [
    "## Root Mean Square error (RMSE)\n",
    "- It is the squareroot of RSS -> Standard Deviation\n",
    "- It describes the spread of the residuals from the line of best fit and noise of the model.\n",
    "- When RMSE is low, it means the error made by the model has a small deviation fromt the true values"
   ]
  },
  {
   "cell_type": "code",
   "execution_count": 45,
   "id": "0028a965-22bf-4e29-a1d4-f301e4c0bda8",
   "metadata": {},
   "outputs": [
    {
     "name": "stdout",
     "output_type": "stream",
     "text": [
      "mean squared error: 0.008\n",
      "root mean square error: 0.089\n"
     ]
    }
   ],
   "source": [
    "# Root mean square error (RMSE)\n",
    "# RMSE -> square-root of mean squared error\n",
    "\n",
    "from sklearn.metrics import mean_squared_error\n",
    "mse = (mean_squared_error(y_test, predicted_values)).round(decimals = 3)\n",
    "print ('mean squared error: ' f'{mse}')\n",
    "rmse = np.sqrt(mse).round(decimals = 3)\n",
    "print ('root mean square error: ' f'{rmse}')"
   ]
  },
  {
   "cell_type": "markdown",
   "id": "1fb64a29-8cde-42e0-86b2-e91c063cd621",
   "metadata": {},
   "source": [
    "## R-squared\n",
    "- It is also known as coefficient of determination\n",
    "- It determines the goodness of fit of the model\n",
    "- It lies between 0 & 1\n",
    "- Usually, the higher the R^2 , the better the model and vice versa but not always true"
   ]
  },
  {
   "cell_type": "code",
   "execution_count": 47,
   "id": "397b2c74-8b92-46af-964b-ee4707d9db8b",
   "metadata": {},
   "outputs": [
    {
     "data": {
      "text/plain": [
       "0.893"
      ]
     },
     "execution_count": 47,
     "metadata": {},
     "output_type": "execute_result"
    }
   ],
   "source": [
    "# R-squared statistic\n",
    "\n",
    "from sklearn.metrics import r2_score\n",
    "r2_score = r2_score(y_test, predicted_values)\n",
    "round(r2_score, 3)"
   ]
  }
 ],
 "metadata": {
  "kernelspec": {
   "display_name": "Python 3 (ipykernel)",
   "language": "python",
   "name": "python3"
  },
  "language_info": {
   "codemirror_mode": {
    "name": "ipython",
    "version": 3
   },
   "file_extension": ".py",
   "mimetype": "text/x-python",
   "name": "python",
   "nbconvert_exporter": "python",
   "pygments_lexer": "ipython3",
   "version": "3.8.2"
  },
  "toc-autonumbering": false,
  "toc-showcode": false,
  "toc-showmarkdowntxt": false
 },
 "nbformat": 4,
 "nbformat_minor": 5
}
